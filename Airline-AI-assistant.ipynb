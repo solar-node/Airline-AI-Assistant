{
 "cells": [
  {
   "cell_type": "markdown",
   "id": "474af447-6fa1-4c34-94b4-5b545de56bc4",
   "metadata": {},
   "source": [
    "# Airline AI Assistant"
   ]
  },
  {
   "cell_type": "code",
   "execution_count": 1,
   "id": "3ea0f086-2573-4dc5-91b0-6d776ba4a890",
   "metadata": {},
   "outputs": [],
   "source": [
    "# imports\n",
    "import os\n",
    "import json\n",
    "from dotenv import load_dotenv\n",
    "from langchain_google_genai import ChatGoogleGenerativeAI\n",
    "from langchain.schema import HumanMessage, AIMessage, SystemMessage\n",
    "import gradio as gr"
   ]
  },
  {
   "cell_type": "code",
   "execution_count": 2,
   "id": "ff4aa9f9-43a6-4524-871b-495c3bc2b3dd",
   "metadata": {},
   "outputs": [],
   "source": [
    "# Initializing\n",
    "\n",
    "load_dotenv()\n",
    "os.environ['GOOGLE_API_KEY'] = os.getenv('GOOGLE_API_KEY')\n",
    "model = \"gemini-2.0-flash\"\n",
    "gemini = ChatGoogleGenerativeAI(\n",
    "    model = model,\n",
    "    temperature  = 0.5\n",
    ")"
   ]
  },
  {
   "cell_type": "code",
   "execution_count": 3,
   "id": "c0296dbe-d796-4ed1-9a13-5956af5fe175",
   "metadata": {},
   "outputs": [],
   "source": [
    "system_message = \"You are a helpful assistant for an Airline called FlightAI.\"\n",
    "system_message += \"Give short, courteous answer, no more than 1 sentence.\"\n",
    "system_message += \"Always be accurate, if you   dont know the answer, say so.\""
   ]
  },
  {
   "cell_type": "code",
   "execution_count": 7,
   "id": "52bfd2b6-7545-4aff-9eb4-968c4d4fd606",
   "metadata": {},
   "outputs": [],
   "source": [
    "def chat(message, history):\n",
    "    messages = [\n",
    "        SystemMessage(content=system_message)\n",
    "    ]\n",
    "\n",
    "    for turn in history:\n",
    "        if turn[\"role\"] == \"user\":\n",
    "            messages.append(HumanMessage(content=turn[\"content\"]))\n",
    "        elif turn[\"role\"] == \"assistant\":\n",
    "            messages.append(AIMessage(content=turn[\"content\"]))\n",
    "            \n",
    "    messages.append(HumanMessage(content=message))\n",
    "\n",
    "    # Streaming\n",
    "    response = \"\"\n",
    "\n",
    "    for chunk in gemini.stream(messages):\n",
    "        response += chunk.content\n",
    "        yield response"
   ]
  },
  {
   "cell_type": "code",
   "execution_count": 8,
   "id": "bc94984c-77c0-41f5-8f5c-a68d77568c4e",
   "metadata": {},
   "outputs": [
    {
     "name": "stdout",
     "output_type": "stream",
     "text": [
      "* Running on local URL:  http://127.0.0.1:7861\n",
      "\n",
      "Could not create share link. Please check your internet connection or our status page: https://status.gradio.app.\n"
     ]
    },
    {
     "name": "stderr",
     "output_type": "stream",
     "text": [
      "2025/09/28 14:08:18 [W] [service.go:132] login to server failed: i/o deadline reached\n"
     ]
    },
    {
     "data": {
      "text/html": [
       "<div><iframe src=\"http://127.0.0.1:7861/\" width=\"100%\" height=\"500\" allow=\"autoplay; camera; microphone; clipboard-read; clipboard-write;\" frameborder=\"0\" allowfullscreen></iframe></div>"
      ],
      "text/plain": [
       "<IPython.core.display.HTML object>"
      ]
     },
     "metadata": {},
     "output_type": "display_data"
    },
    {
     "data": {
      "text/plain": []
     },
     "execution_count": 8,
     "metadata": {},
     "output_type": "execute_result"
    }
   ],
   "source": [
    "chat_interface = gr.ChatInterface(\n",
    "    fn = chat,\n",
    "    type = \"messages\",\n",
    "    title = \"Aireline AI Assistant\"\n",
    ")\n",
    "chat_interface.launch(share = True)"
   ]
  },
  {
   "cell_type": "markdown",
   "id": "0096411c-21b3-4cc2-8fc8-f744254a2314",
   "metadata": {},
   "source": [
    "## Tools"
   ]
  },
  {
   "cell_type": "code",
   "execution_count": 11,
   "id": "13a29398-00be-4e44-8686-0822cddff86b",
   "metadata": {},
   "outputs": [],
   "source": [
    "# Let's start by making a function\n",
    "\n",
    "ticket_prices = {\"london\" : \"$799\", \"paris\" : \"$899\", \"tokyo\" : \"$1400\", \"berlin\" : \"$499\"}\n",
    "\n",
    "def get_ticket_price(destination_city):\n",
    "    print(f\"Tool get_ticket_price called for: {destination_city}\")\n",
    "    city = destination_city.lower()\n",
    "\n",
    "    return ticket_prices.get(city, \"Unknown\")"
   ]
  },
  {
   "cell_type": "code",
   "execution_count": 12,
   "id": "6d5f124b-5d74-4b32-baba-9b88efd7d586",
   "metadata": {},
   "outputs": [
    {
     "name": "stdout",
     "output_type": "stream",
     "text": [
      "Tool get_ticket_price called for: Berlin\n"
     ]
    },
    {
     "data": {
      "text/plain": [
       "'$499'"
      ]
     },
     "execution_count": 12,
     "metadata": {},
     "output_type": "execute_result"
    }
   ],
   "source": [
    "get_ticket_price(\"Berlin\")"
   ]
  },
  {
   "cell_type": "code",
   "execution_count": 19,
   "id": "4097e216-b2b6-42f6-9481-c513705ed32e",
   "metadata": {},
   "outputs": [],
   "source": [
    "# Dictionary structure to describe our function\n",
    "price_function = {\n",
    "    \"name\": \"get_ticket_price\",\n",
    "    \"description\": \"Get the price of a return ticket to the destination city. Call this whenever you need to know the ticket price, for example when a customer asks 'How much is a ticket of this city?'\",\n",
    "    \"parameters\": {\n",
    "        \"type\": \"object\",\n",
    "        \"properties\": {\n",
    "            \"destination_city\": {\n",
    "                \"type\": \"string\",\n",
    "                \"description\": \"The city that the customer wants to travel to\"\n",
    "            }\n",
    "        },\n",
    "        \"required\": [\"destination_city\"],\n",
    "        \"additionalProperties\": False\n",
    "    }\n",
    "}"
   ]
  },
  {
   "cell_type": "code",
   "execution_count": 20,
   "id": "7c0576c5-5fdc-4719-a4bd-f1ce15380846",
   "metadata": {},
   "outputs": [],
   "source": [
    "# This is included in list of tools:\n",
    "\n",
    "tools = [{\"type\" : \"function\", \"function\" : price_function}]"
   ]
  },
  {
   "cell_type": "markdown",
   "id": "be2d6068-a5b0-484b-a7ca-acea8f9de8b2",
   "metadata": {},
   "source": [
    "### Gemini Response \n",
    "```json\n",
    "{\n",
    "    \"content\": \"Hello! I can help you learn about flight ticket.\",\n",
    "    \"role\": \"assistant\",\n",
    "    \"metadata\": {\n",
    "        \"source\": \"example\",\n",
    "        \"timestamp\": \"2025-09-28T12:00:00Z\"\n",
    "    }\n",
    "}\n"
   ]
  },
  {
   "cell_type": "code",
   "execution_count": 22,
   "id": "73e7686a-a03d-4794-983b-133c3b7f1869",
   "metadata": {},
   "outputs": [],
   "source": [
    "def chat(message, history):\n",
    "    \n",
    "    messages = [\n",
    "        SystemMessage(content = system_message)\n",
    "    ]\n",
    "\n",
    "    for turn in history:\n",
    "        if turn['role'] == 'user':\n",
    "            messages.append(HumanMessage(content = turn['content']))\n",
    "        if turn['role'] == 'assistant':\n",
    "            messages.append(AIMessage(content = turn['content']))\n",
    "\n",
    "    messages.append(HumanMessage(content = message))\n",
    "    response = gemini.invoke(messages = messages,tools = tools)\n",
    "\n",
    "\n",
    "    if response.choices[0].finish_reason == \"tool_calls\":\n",
    "        message = response.choices[0].message\n",
    "        response, city = handle_tool_call(message)\n",
    "        messages.append(message)\n",
    "        messages.append(response)\n",
    "        response = gemini.invoke(messages)\n",
    "\n",
    "        return response.content"
   ]
  },
  {
   "cell_type": "markdown",
   "id": "2784cd67-4656-4762-b5c8-038eb0542cdc",
   "metadata": {},
   "source": []
  },
  {
   "cell_type": "code",
   "execution_count": null,
   "id": "721dbe79-1639-45b1-9088-2bd60ce8693d",
   "metadata": {},
   "outputs": [],
   "source": []
  }
 ],
 "metadata": {
  "kernelspec": {
   "display_name": "Python 3 (ipykernel)",
   "language": "python",
   "name": "python3"
  },
  "language_info": {
   "codemirror_mode": {
    "name": "ipython",
    "version": 3
   },
   "file_extension": ".py",
   "mimetype": "text/x-python",
   "name": "python",
   "nbconvert_exporter": "python",
   "pygments_lexer": "ipython3",
   "version": "3.13.5"
  }
 },
 "nbformat": 4,
 "nbformat_minor": 5
}
